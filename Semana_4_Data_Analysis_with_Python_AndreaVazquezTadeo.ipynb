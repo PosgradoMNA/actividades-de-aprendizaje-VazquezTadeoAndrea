{
  "nbformat": 4,
  "nbformat_minor": 0,
  "metadata": {
    "colab": {
      "provenance": [],
      "toc_visible": true,
      "authorship_tag": "ABX9TyOPIx318Jn65uDTsfPbzW99",
      "include_colab_link": true
    },
    "kernelspec": {
      "name": "python3",
      "display_name": "Python 3"
    },
    "language_info": {
      "name": "python"
    }
  },
  "cells": [
    {
      "cell_type": "markdown",
      "metadata": {
        "id": "view-in-github",
        "colab_type": "text"
      },
      "source": [
        "<a href=\"https://colab.research.google.com/github/PosgradoMNA/actividades-de-aprendizaje-VazquezTadeoAndrea/blob/main/Semana_4_Data_Analysis_with_Python_AndreaVazquezTadeo.ipynb\" target=\"_parent\"><img src=\"https://colab.research.google.com/assets/colab-badge.svg\" alt=\"Open In Colab\"/></a>"
      ]
    },
    {
      "cell_type": "markdown",
      "source": [
        "Nombre: Andrea Vazquez Tadeo\n",
        " \n",
        "Matricula: A01730613"
      ],
      "metadata": {
        "id": "LcAjXP00HQM2"
      }
    },
    {
      "cell_type": "markdown",
      "source": [
        "# Introduccion"
      ],
      "metadata": {
        "id": "aukfwpPzOjew"
      }
    },
    {
      "cell_type": "markdown",
      "source": [
        "El analisis de los datos nos ayuda a dar solucion a problemas a partir de la información recopilada ya sea de manera manual o automatica. Ademas nos puede ayudar a predecir comportamientos.\n",
        "\n",
        "Cuando intentamos resolver un problema a través del analisis de datos, es de suma importancia visualizar la información con la que contamos y la que necesitaremos para poder realizar un analisis profundo del escenario y asi obtener una mejor solución. Además de identificar la variable a predecir, o el objetivo del analisis, siempre teniendo presente que las variables restantes seran de apoyo o tambien llamadas predictores. \n",
        "\n"
      ],
      "metadata": {
        "id": "3ae1RgolJkHl"
      }
    },
    {
      "cell_type": "markdown",
      "source": [
        "En python existen librerias las cuales son una colección de metodos y funciones que permiten simplificar las lineas de codigo de nuestro programa. Para esta actividad estudiaremos tres tipos de ellas.\n",
        "\n"
      ],
      "metadata": {
        "id": "P9swc2WANODu"
      }
    },
    {
      "cell_type": "markdown",
      "source": [
        "## Librerias Computación Cientifica "
      ],
      "metadata": {
        "id": "DGoZe_tOOtev"
      }
    },
    {
      "cell_type": "markdown",
      "source": [
        "\n",
        "\n",
        "1.   Pandas\n",
        "\n",
        "Permite una efectiva manipulación y analisis de los datos, además de acceso rapido a datos estructurados. La principal herramienta de Pandas es el DataFrame, el cual consiste en almacenar los datos en columnas y renglones. \n",
        "\n",
        "2.   NumPy\n",
        "\n",
        "Utiliza arreglos para estructuras las entradas y salidas de los datos, se puede extender hasta matrices e inclusive se puede realizar un procesamiento de datos más eficiente con los arreglos. \n",
        "\n",
        "3.   SciPy\n",
        "\n",
        "Permite realizar avanzados problemas matematicos como integrales, equaciones diferenciales y optimización de los datos. Así como una visualización de los datos más eficiente. \n",
        "\n",
        "\n"
      ],
      "metadata": {
        "id": "ujVKOsxIO4on"
      }
    },
    {
      "cell_type": "markdown",
      "source": [
        "##Librerias de Visualización "
      ],
      "metadata": {
        "id": "X1_CDUbIVAX5"
      }
    },
    {
      "cell_type": "markdown",
      "source": [
        "Utilizar los metodos de visualización de datos es la mejor forma de comunicar los resultados con el publico objetivo, ya que nos habilita la posibilidad de mostrar los analisis de manera más efectiva, permitiendonos organizarlo en mapas y graficas."
      ],
      "metadata": {
        "id": "1XoDRD0JW86o"
      }
    },
    {
      "cell_type": "markdown",
      "source": [
        "\n",
        "1.   Matplotlib \n",
        "\n",
        "Es la libreria más comun para graficas y plots, permitiendo realizar la personalización al usuario final, segun las necesidades de los datos. \n",
        "\n",
        "2.   Seaborn \n",
        "\n",
        "Se encuentra basada en Matplotlib, permitiendo con mayor facilidad generar los plots, como mapas de calor y series de tiempo. \n",
        "\n"
      ],
      "metadata": {
        "id": "LhBzayEDVE0k"
      }
    },
    {
      "cell_type": "markdown",
      "source": [
        "##Librerias de Algoritmo "
      ],
      "metadata": {
        "id": "PbjOl4oiXXJ9"
      }
    },
    {
      "cell_type": "markdown",
      "source": [
        "Estas librerias transforman algunas tareas de aprendizaje automatico en procedimientos más sencillos permitiendonos desarrollar un modelo utilizando nuestra base de datos con el objetivo de obtener resultados con respecto a problemas. "
      ],
      "metadata": {
        "id": "kF_wqxQ4XZef"
      }
    },
    {
      "cell_type": "markdown",
      "source": [
        "\n",
        "\n",
        "1.   Scikit-learn\n",
        "\n",
        "Se encuentra basado NumPy, SciPy y Matplotlib con la aplicación de las herramientas especificas nos permite realizar modelos estadisticos como regresión, clasificación, entre otros. \n",
        "\n",
        "2.   Statsmodels\n",
        "\n",
        "Permite a los usuarios explorar los datos, estimar modelos estadisticos y desarrollar pruebas estadisticas. "
      ],
      "metadata": {
        "id": "HoKVg3OYZ60G"
      }
    }
  ]
}