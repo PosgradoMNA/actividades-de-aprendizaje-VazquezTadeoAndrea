{
  "nbformat": 4,
  "nbformat_minor": 0,
  "metadata": {
    "colab": {
      "provenance": [],
      "mount_file_id": "11myhkKJk29GlA0MVUPxZlq7ZIsvoJTsI",
      "authorship_tag": "ABX9TyOQVOKW6B0w7WRmA+a+vyrv",
      "include_colab_link": true
    },
    "kernelspec": {
      "name": "python3",
      "display_name": "Python 3"
    },
    "language_info": {
      "name": "python"
    }
  },
  "cells": [
    {
      "cell_type": "markdown",
      "metadata": {
        "id": "view-in-github",
        "colab_type": "text"
      },
      "source": [
        "<a href=\"https://colab.research.google.com/github/PosgradoMNA/actividades-de-aprendizaje-VazquezTadeoAndrea/blob/main/Semana2_AndreaVazquezTadeo_Modulo4.ipynb\" target=\"_parent\"><img src=\"https://colab.research.google.com/assets/colab-badge.svg\" alt=\"Open In Colab\"/></a>"
      ]
    },
    {
      "cell_type": "markdown",
      "source": [
        "Andrea Vazquez Tadeo A01730613 Modulo4 IBM"
      ],
      "metadata": {
        "id": "9hDp5RM2T04s"
      }
    },
    {
      "cell_type": "markdown",
      "source": [
        "Lab#1 (ReadFile)"
      ],
      "metadata": {
        "id": "4XSqKKoyT5so"
      }
    },
    {
      "cell_type": "code",
      "source": [
        "#Para leer el contenido del archivo, solo utilizamos \"open\"\n",
        "lab1 = \"/content/drive/MyDrive/Modulo4.txt\"\n",
        "doc1 = open(lab1, \"r\")"
      ],
      "metadata": {
        "id": "NttYZTXnX8fD"
      },
      "execution_count": 65,
      "outputs": []
    },
    {
      "cell_type": "code",
      "source": [
        "#Para imprimir el nombre del archivo utilizamos el metodo \"name\"\n",
        "doc1.name"
      ],
      "metadata": {
        "colab": {
          "base_uri": "https://localhost:8080/",
          "height": 35
        },
        "id": "5fgMUgZgYExN",
        "outputId": "3c0bf919-2582-42a8-e5fa-2c4a6f43252e"
      },
      "execution_count": 66,
      "outputs": [
        {
          "output_type": "execute_result",
          "data": {
            "text/plain": [
              "'/content/drive/MyDrive/Modulo4.txt'"
            ],
            "application/vnd.google.colaboratory.intrinsic+json": {
              "type": "string"
            }
          },
          "metadata": {},
          "execution_count": 66
        }
      ]
    },
    {
      "cell_type": "code",
      "source": [
        "#Para conocer el modo del archivo utilizamos el metodo \"mode\"\n",
        "doc1.mode"
      ],
      "metadata": {
        "colab": {
          "base_uri": "https://localhost:8080/",
          "height": 35
        },
        "id": "e76dHDlsGhiX",
        "outputId": "5463b5e4-74a8-40c4-f64a-784b7168dd66"
      },
      "execution_count": 67,
      "outputs": [
        {
          "output_type": "execute_result",
          "data": {
            "text/plain": [
              "'r'"
            ],
            "application/vnd.google.colaboratory.intrinsic+json": {
              "type": "string"
            }
          },
          "metadata": {},
          "execution_count": 67
        }
      ]
    },
    {
      "cell_type": "code",
      "source": [
        "#Leer el contenido del archivo, a través de el metodo \"read\", las /n indican que hay una linea entre\n",
        "Datos=doc1.read()\n",
        "Datos"
      ],
      "metadata": {
        "colab": {
          "base_uri": "https://localhost:8080/",
          "height": 35
        },
        "id": "hVE8bbeKHmxb",
        "outputId": "48dde307-6be1-4a0b-bd13-aebcd02a6cdf"
      },
      "execution_count": 68,
      "outputs": [
        {
          "output_type": "execute_result",
          "data": {
            "text/plain": [
              "'Prueba1\\nPrueba2\\nPrueba3'"
            ],
            "application/vnd.google.colaboratory.intrinsic+json": {
              "type": "string"
            }
          },
          "metadata": {},
          "execution_count": 68
        }
      ]
    },
    {
      "cell_type": "code",
      "source": [
        "#Imprimir el archivo sin las /n mostrando el contenido como aparece en el archivo de texto\n",
        "print(Datos)"
      ],
      "metadata": {
        "colab": {
          "base_uri": "https://localhost:8080/"
        },
        "id": "EqGKR4ZzH2WS",
        "outputId": "dc47ae22-1a65-4931-e4e8-79261452d8b0"
      },
      "execution_count": 69,
      "outputs": [
        {
          "output_type": "stream",
          "name": "stdout",
          "text": [
            "Prueba1\n",
            "Prueba2\n",
            "Prueba3\n"
          ]
        }
      ]
    },
    {
      "cell_type": "code",
      "source": [
        "#Para conocer el tipo de datos del archivo, es necesario llamar a \"type\", como lo vimos en el primer modulo\n",
        "type(Datos)"
      ],
      "metadata": {
        "colab": {
          "base_uri": "https://localhost:8080/"
        },
        "id": "tc4RRQAfICp2",
        "outputId": "4e4e1127-c6d2-4a06-ee4d-feb422b80c31"
      },
      "execution_count": 70,
      "outputs": [
        {
          "output_type": "execute_result",
          "data": {
            "text/plain": [
              "str"
            ]
          },
          "metadata": {},
          "execution_count": 70
        }
      ]
    },
    {
      "cell_type": "code",
      "source": [
        "#Para cerrar el archivo, basta con indicarlo con la palabra \"close\", esto es importante para liberar espacio y asegurar consistencia\n",
        "doc1.close()"
      ],
      "metadata": {
        "id": "yKFiIGRTIPGQ"
      },
      "execution_count": 71,
      "outputs": []
    },
    {
      "cell_type": "code",
      "source": [
        "#Utilizando \"with\" es mejor, ya que corre todo lo que este en la sección del codigo y posteriormente cierra el archivo automaticamente\n",
        "with open(lab1, \"r\") as doc1:\n",
        "    Datos = doc1.read()\n",
        "    print(Datos)"
      ],
      "metadata": {
        "colab": {
          "base_uri": "https://localhost:8080/"
        },
        "id": "aP9t2AWAIkfX",
        "outputId": "ff60dd37-77dc-47c0-8f21-ed735caa6e97"
      },
      "execution_count": 58,
      "outputs": [
        {
          "output_type": "stream",
          "name": "stdout",
          "text": [
            "Prueba1\n",
            "Prueba2\n",
            "Prueba3\n"
          ]
        }
      ]
    },
    {
      "cell_type": "code",
      "source": [
        "#Para verificar que el archivo se cerro de manera correcta llamamos el metodo \"close\" esperando el valor true\n",
        "doc1.closed"
      ],
      "metadata": {
        "colab": {
          "base_uri": "https://localhost:8080/"
        },
        "id": "RUljEnZwJLx7",
        "outputId": "9fbd7ed6-cb0e-47ac-9d5a-18cfe96bf4c6"
      },
      "execution_count": 73,
      "outputs": [
        {
          "output_type": "execute_result",
          "data": {
            "text/plain": [
              "True"
            ]
          },
          "metadata": {},
          "execution_count": 73
        }
      ]
    },
    {
      "cell_type": "code",
      "source": [
        "#Podemos visualizar el contenido con solo imprimir la variable que los almacena\n",
        "print(Datos)"
      ],
      "metadata": {
        "colab": {
          "base_uri": "https://localhost:8080/"
        },
        "id": "j_axpYtuMrTA",
        "outputId": "a655b9c1-eb07-4e78-f37d-b67af974479b"
      },
      "execution_count": 74,
      "outputs": [
        {
          "output_type": "stream",
          "name": "stdout",
          "text": [
            "Prueba1\n",
            "Prueba2\n",
            "Prueba3\n"
          ]
        }
      ]
    },
    {
      "cell_type": "code",
      "source": [
        "#Para imprimir las primeras n letras del documento es necesario indicar el numero entre los parentisis del metodo \"read\"\n",
        "with open(lab1, \"r\") as doc1:\n",
        "    print(doc1.read(5))"
      ],
      "metadata": {
        "colab": {
          "base_uri": "https://localhost:8080/"
        },
        "id": "Xj3gxQnzNJ00",
        "outputId": "a128c521-c63d-491c-86ce-20d47d70bfdd"
      },
      "execution_count": 75,
      "outputs": [
        {
          "output_type": "stream",
          "name": "stdout",
          "text": [
            "Prueb\n"
          ]
        }
      ]
    },
    {
      "cell_type": "markdown",
      "source": [
        "![image.png](data:image/png;base64,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)"
      ],
      "metadata": {
        "id": "_Blym5vQTncX"
      }
    },
    {
      "cell_type": "code",
      "source": [
        "#Para leer más letras pero colocarlas en diferentes lineas podemos llamar el metodo n cantidad de veces deseadas\n",
        "with open(lab1, \"r\") as doc1:\n",
        "    print(doc1.read(3))\n",
        "    print(doc1.read(8))\n",
        "    print(doc1.read(1))\n",
        "    print(doc1.read(7))"
      ],
      "metadata": {
        "colab": {
          "base_uri": "https://localhost:8080/"
        },
        "id": "XyTp8NRyNjbU",
        "outputId": "d24e8f82-c4eb-4989-f6ae-110315bcf36c"
      },
      "execution_count": 77,
      "outputs": [
        {
          "output_type": "stream",
          "name": "stdout",
          "text": [
            "Pru\n",
            "eba1\n",
            "Pru\n",
            "e\n",
            "ba2\n",
            "Pru\n"
          ]
        }
      ]
    },
    {
      "cell_type": "markdown",
      "source": [
        "![image.png](data:image/png;base64,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)"
      ],
      "metadata": {
        "id": "fI8Balo6VTTL"
      }
    },
    {
      "cell_type": "code",
      "source": [
        "#Para leer cada linea una a la vez mandamos a llamar el metodo \"readline\", por cada vez que lo llamemos imprimiremos una línea nueva del documento\n",
        "with open(lab1, \"r\") as doc1:\n",
        "    print(\"primera linea: \" + doc1.readline())\n",
        "    print(\"segunda linea: \" + doc1.readline())"
      ],
      "metadata": {
        "colab": {
          "base_uri": "https://localhost:8080/"
        },
        "id": "1FYPT_fGVeCx",
        "outputId": "41e31279-6fc0-40ed-f3ce-dd870dce17b2"
      },
      "execution_count": 80,
      "outputs": [
        {
          "output_type": "stream",
          "name": "stdout",
          "text": [
            "primera linea: Prueba1\n",
            "\n",
            "segunda linea: Prueba2\n",
            "\n"
          ]
        }
      ]
    },
    {
      "cell_type": "code",
      "source": [
        "#Podemos especificar el numero de caracteres a imprimir con el metodo \"readline\" sin embargo continuara solo leyendo en la linea que se indique\n",
        "with open(example1, \"r\") as file1:\n",
        "    print(file1.readline(9)) #no continua leyendo más alla de la primer linea del documento"
      ],
      "metadata": {
        "colab": {
          "base_uri": "https://localhost:8080/"
        },
        "id": "opusLK1TWFDc",
        "outputId": "6cc11f52-bad3-4600-e239-73df54f44103"
      },
      "execution_count": 83,
      "outputs": [
        {
          "output_type": "stream",
          "name": "stdout",
          "text": [
            "Prueba1\n",
            "\n"
          ]
        }
      ]
    },
    {
      "cell_type": "markdown",
      "source": [
        "![image.png](data:image/png;base64,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)"
      ],
      "metadata": {
        "id": "JAUryB0RW_uX"
      }
    },
    {
      "cell_type": "code",
      "source": [
        "#Por otro lado podemos ver como el metodo \"read\" continua leyendo caracteres aunque no pertenezcan a la misma fila\n",
        "with open(lab1, \"r\") as doc1:\n",
        "    print(doc1.read(12))"
      ],
      "metadata": {
        "colab": {
          "base_uri": "https://localhost:8080/"
        },
        "id": "v5X6wXK4XHYf",
        "outputId": "cb0e4638-f519-4316-be4a-68df90bc4827"
      },
      "execution_count": 85,
      "outputs": [
        {
          "output_type": "stream",
          "name": "stdout",
          "text": [
            "Prueba1\n",
            "Prue\n"
          ]
        }
      ]
    },
    {
      "cell_type": "code",
      "source": [
        "#Imprimir las lineas del documento a través de iteraciones \n",
        "with open(lab1,\"r\") as doc1:\n",
        "        x = 0;\n",
        "        for linea in doc1:\n",
        "            print(\"Iteracion\", str(x), \": \", linea)\n",
        "            x = x + 1"
      ],
      "metadata": {
        "colab": {
          "base_uri": "https://localhost:8080/"
        },
        "id": "Th96I5B4XdBT",
        "outputId": "bb46094c-1b60-4087-ece0-3b331d3f101a"
      },
      "execution_count": 88,
      "outputs": [
        {
          "output_type": "stream",
          "name": "stdout",
          "text": [
            "Iteracion 0 :  Prueba1\n",
            "\n",
            "Iteracion 1 :  Prueba2\n",
            "\n",
            "Iteracion 2 :  Prueba3\n"
          ]
        }
      ]
    },
    {
      "cell_type": "code",
      "source": [
        "#Para guardar los datos como un lista podemos utilizar el metodo \"readlines\"\n",
        "with open(lab1, \"r\") as doc1:\n",
        "    DatosFila = doc1.readlines()"
      ],
      "metadata": {
        "id": "nfnAAD_dax0z"
      },
      "execution_count": 92,
      "outputs": []
    },
    {
      "cell_type": "code",
      "source": [
        "#Para imprimir la primera linea de la lista\n",
        "DatosFila[0]"
      ],
      "metadata": {
        "colab": {
          "base_uri": "https://localhost:8080/",
          "height": 35
        },
        "id": "WrWO6VGsbLms",
        "outputId": "5259d599-f024-4ded-f0c6-fca721cf136e"
      },
      "execution_count": 93,
      "outputs": [
        {
          "output_type": "execute_result",
          "data": {
            "text/plain": [
              "'Prueba1\\n'"
            ],
            "application/vnd.google.colaboratory.intrinsic+json": {
              "type": "string"
            }
          },
          "metadata": {},
          "execution_count": 93
        }
      ]
    },
    {
      "cell_type": "code",
      "source": [
        "#Para imprimir la segunda linea de la lista\n",
        "DatosFila[1]"
      ],
      "metadata": {
        "colab": {
          "base_uri": "https://localhost:8080/",
          "height": 35
        },
        "id": "vpaFQAEgbc3a",
        "outputId": "1bcbf6f2-af5b-44ca-8dc9-0e211bc518c2"
      },
      "execution_count": 94,
      "outputs": [
        {
          "output_type": "execute_result",
          "data": {
            "text/plain": [
              "'Prueba2\\n'"
            ],
            "application/vnd.google.colaboratory.intrinsic+json": {
              "type": "string"
            }
          },
          "metadata": {},
          "execution_count": 94
        }
      ]
    },
    {
      "cell_type": "markdown",
      "source": [
        "Lab#2 (WriteFile)"
      ],
      "metadata": {
        "id": "rsqYh7RWbxyg"
      }
    },
    {
      "cell_type": "code",
      "source": [
        "#Podemos escribir un dato \n",
        "doc2 = '/content/drive/MyDrive/Modulo4.2.txt'\n",
        "with open(doc2, 'w') as writedoc2:\n",
        "    writedoc2.write(\"Hola Jobish\")"
      ],
      "metadata": {
        "id": "mtMl2YzHb_f9"
      },
      "execution_count": 101,
      "outputs": []
    },
    {
      "cell_type": "code",
      "source": [
        "#Lectura del archivo para visualizar si escribio o no \n",
        "with open(doc2, 'r') as prueba:\n",
        "    print(prueba.read())"
      ],
      "metadata": {
        "colab": {
          "base_uri": "https://localhost:8080/"
        },
        "id": "GiR9dP3nwwTF",
        "outputId": "3350cf77-e3d9-4392-e3cb-cf5d141a2112"
      },
      "execution_count": 102,
      "outputs": [
        {
          "output_type": "stream",
          "name": "stdout",
          "text": [
            "Hola Jobish\n"
          ]
        }
      ]
    },
    {
      "cell_type": "code",
      "source": [
        "#Ademas podemos escribir multiples lineas en el mismo archivo\n",
        "with open(doc2, 'w') as writedoc2:\n",
        "    writedoc2.write(\"Hola Jobish\\n\")\n",
        "    writedoc2.write(\"Ciencia y Analitica de Datos\\n\")"
      ],
      "metadata": {
        "id": "Q_gcIONtxI_l"
      },
      "execution_count": 115,
      "outputs": []
    },
    {
      "cell_type": "code",
      "source": [
        "#Imprimimos para visualizar si escribio correctamente\n",
        "with open(doc2, 'r') as prueba:\n",
        "    print(prueba.read())"
      ],
      "metadata": {
        "colab": {
          "base_uri": "https://localhost:8080/"
        },
        "id": "8XY_WI1dyb0n",
        "outputId": "75c97f47-f5a6-4185-f872-b0749123a13e"
      },
      "execution_count": 116,
      "outputs": [
        {
          "output_type": "stream",
          "name": "stdout",
          "text": [
            "Hola Jobish\n",
            "Ciencia y Analitica de Datos\n",
            "\n"
          ]
        }
      ]
    },
    {
      "cell_type": "code",
      "source": [
        "#Redactaremos una lista de texto\n",
        "Lista = [\"Test A\\n\", \"Test B\\n\", \"Test C\\n\"]\n",
        "Lista"
      ],
      "metadata": {
        "colab": {
          "base_uri": "https://localhost:8080/"
        },
        "id": "X4f2ZEDjzWVz",
        "outputId": "71c9602f-7c7b-4e63-f47a-83898b923a05"
      },
      "execution_count": 119,
      "outputs": [
        {
          "output_type": "execute_result",
          "data": {
            "text/plain": [
              "['Test A\\n', 'Test B\\n', 'Test C\\n']"
            ]
          },
          "metadata": {},
          "execution_count": 119
        }
      ]
    },
    {
      "cell_type": "code",
      "source": [
        "#Escribiremos el texto que conforma la lista en el archivo\n",
        "with open('doc2', 'w') as writedoc2:\n",
        "    for linea in Lista:\n",
        "        print(linea)\n",
        "        writedoc2.write(linea)"
      ],
      "metadata": {
        "colab": {
          "base_uri": "https://localhost:8080/"
        },
        "id": "X3WCfW9YzsK4",
        "outputId": "4c9bebab-4648-4d5c-a39a-7c8aec6d6666"
      },
      "execution_count": 120,
      "outputs": [
        {
          "output_type": "stream",
          "name": "stdout",
          "text": [
            "Test A\n",
            "\n",
            "Test B\n",
            "\n",
            "Test C\n",
            "\n"
          ]
        }
      ]
    },
    {
      "cell_type": "code",
      "source": [
        "#Verificamos que realmente se escribiera en el archivo los strings que conforman a la lista\n",
        "\n",
        "with open('doc2', 'r') as prueba:\n",
        "    print(prueba.read())"
      ],
      "metadata": {
        "colab": {
          "base_uri": "https://localhost:8080/"
        },
        "id": "5nkqnITK0OB_",
        "outputId": "adadf2b9-7c68-465a-d760-ae499b223ad9"
      },
      "execution_count": 121,
      "outputs": [
        {
          "output_type": "stream",
          "name": "stdout",
          "text": [
            "Test A\n",
            "Test B\n",
            "Test C\n",
            "\n"
          ]
        }
      ]
    },
    {
      "cell_type": "code",
      "source": [
        "#Podemos darnos cuenta que utilizar el modo \"w\" sobreescribe la información del archivo \n",
        "with open('doc2', 'w') as writedoc2:\n",
        "    writedoc2.write(\"Sobreescritura\\n\")\n",
        "with open('doc2', 'r') as prueba:\n",
        "    print(prueba.read())"
      ],
      "metadata": {
        "colab": {
          "base_uri": "https://localhost:8080/"
        },
        "id": "eMkeU9d10k-u",
        "outputId": "8ca66419-c3fe-4d85-c7dd-e80f33c7abf1"
      },
      "execution_count": 122,
      "outputs": [
        {
          "output_type": "stream",
          "name": "stdout",
          "text": [
            "Sobreescritura\n",
            "\n"
          ]
        }
      ]
    },
    {
      "cell_type": "code",
      "source": [
        "#Podemos addicionar informacion al archivo, sin tener que sobreescribir lo anterior \n",
        "with open('doc2', 'a') as prueba:\n",
        "    prueba.write(\"Prueba añadir1\\n\")\n",
        "    prueba.write(\"Prueba añadir2\\n\")\n",
        "    prueba.write(\"Prueba añadir3\\n\")"
      ],
      "metadata": {
        "id": "_d9ImQxP2Qbg"
      },
      "execution_count": 125,
      "outputs": []
    },
    {
      "cell_type": "code",
      "source": [
        "#Verificamos si se agregaron las nuevas lineas de texto al archivo\n",
        "with open('doc2', 'r') as prueba:\n",
        "    print(prueba.read())"
      ],
      "metadata": {
        "colab": {
          "base_uri": "https://localhost:8080/"
        },
        "id": "1-Nk4TfN21ok",
        "outputId": "9d88d71d-7651-4188-92e5-ccff49f15f54"
      },
      "execution_count": 127,
      "outputs": [
        {
          "output_type": "stream",
          "name": "stdout",
          "text": [
            "Sobreescritura\n",
            "This is line C\n",
            "This is line D\n",
            "This is line E\n",
            "Prueba añadir1\n",
            "Prueba añadir2\n",
            "Prueba añadir3\n",
            "\n"
          ]
        }
      ]
    },
    {
      "cell_type": "markdown",
      "source": [
        "Se cuenta con tres modos adicionales para hacer más eficiente la manipulación del archivo:\n",
        "\n",
        "\n",
        "\n",
        "*  **r+= leer y escribir**\n",
        "*  **w+= escribir y leer**\n",
        "* **a+= añadir y leer**\n",
        "\n",
        "\n",
        "\n",
        "\n"
      ],
      "metadata": {
        "id": "3FszICwo4Gif"
      }
    },
    {
      "cell_type": "code",
      "source": [
        "#Utilizando modo \"a+\"\n",
        "with open('doc2', 'a+') as prueba:\n",
        "    prueba.write(\"Ya quiero acabar la tarea\")\n",
        "    print(prueba.read())"
      ],
      "metadata": {
        "colab": {
          "base_uri": "https://localhost:8080/"
        },
        "id": "HtV-1EpBLkbi",
        "outputId": "8fd53966-7057-4839-b554-65627d74e0f7"
      },
      "execution_count": 129,
      "outputs": [
        {
          "output_type": "stream",
          "name": "stdout",
          "text": [
            "\n"
          ]
        }
      ]
    },
    {
      "cell_type": "code",
      "source": [
        "#imprimiendo en modo \"a\" con ubicacion\n",
        "with open('doc2', 'a+') as prueba:\n",
        "    print(\"Ubicacion inicial: {}\".format(prueba.tell()))\n",
        "    \n",
        "    datos = prueba.read()\n",
        "    if (not datos): \n",
        "            print('Sin lectura') \n",
        "    else: \n",
        "            print(prueba.read())\n",
        "            \n",
        "    prueba.seek(0,0) \n",
        "    \n",
        "    print(\"\\nNueva ubicacion : {}\".format(prueba.tell()))\n",
        "    datos = prueba.read()\n",
        "    if (not datos): \n",
        "            print('Sin lectura') \n",
        "    else: \n",
        "            print(datos)\n",
        "    \n",
        "    print(\"Ubicacion despues de lectura: {}\".format(prueba.tell()) )"
      ],
      "metadata": {
        "colab": {
          "base_uri": "https://localhost:8080/"
        },
        "id": "uRJ62m6yNSkW",
        "outputId": "490b8a51-eb9e-46af-a05b-717a10826f7c"
      },
      "execution_count": 131,
      "outputs": [
        {
          "output_type": "stream",
          "name": "stdout",
          "text": [
            "Ubicacion inicial: 148\n",
            "Sin lectura\n",
            "\n",
            "Nueva ubicacion : 0\n",
            "Sobreescritura\n",
            "This is line C\n",
            "This is line D\n",
            "This is line E\n",
            "Prueba añadir1\n",
            "Prueba añadir2\n",
            "Prueba añadir3\n",
            "This is line E\n",
            "Ya quiero acabar la tarea\n",
            "Ubicacion despues de lectura: 148\n"
          ]
        }
      ]
    },
    {
      "cell_type": "code",
      "source": [
        "#Probar el modo \"r+\" sin metodo truncate\n",
        "with open('doc2', 'r+') as prueba:\n",
        "    data = prueba.readlines()\n",
        "    prueba.seek(0,0) #write at beginning of file\n",
        "   \n",
        "    prueba.write(\"A1\" + \"\\n\")\n",
        "    prueba.write(\"A2\" + \"\\n\")\n",
        "    prueba.write(\"A3\" + \"\\n\")\n",
        "    prueba.write(\"Fin\\n\")\n",
        "    #Uncomment the line below\n",
        "    #testwritefile.truncate()\n",
        "    prueba.seek(0,0)\n",
        "    print(prueba.read())"
      ],
      "metadata": {
        "colab": {
          "base_uri": "https://localhost:8080/"
        },
        "id": "t5RLu1FeQktz",
        "outputId": "b6f1d8aa-19e3-4de7-8dd2-1a29949dce1d"
      },
      "execution_count": 132,
      "outputs": [
        {
          "output_type": "stream",
          "name": "stdout",
          "text": [
            "A1\n",
            "A2\n",
            "A3\n",
            "Fin\n",
            "a\n",
            "This is line C\n",
            "This is line D\n",
            "This is line E\n",
            "Prueba añadir1\n",
            "Prueba añadir2\n",
            "Prueba añadir3\n",
            "This is line E\n",
            "Ya quiero acabar la tarea\n"
          ]
        }
      ]
    },
    {
      "cell_type": "code",
      "source": [
        "#Probar el modo \"r+\" con metodo truncate para eleminar todos los demas datos\n",
        "with open('doc2', 'r+') as prueba:\n",
        "    data = prueba.readlines()\n",
        "    prueba.seek(0,0) #write at beginning of file\n",
        "   \n",
        "    prueba.write(\"A1\" + \"\\n\")\n",
        "    prueba.write(\"A2\" + \"\\n\")\n",
        "    prueba.write(\"A3\" + \"\\n\")\n",
        "    prueba.write(\"Fin\\n\")\n",
        "    #Uncomment the line below\n",
        "    prueba.truncate()\n",
        "    prueba.seek(0,0)\n",
        "    print(prueba.read())"
      ],
      "metadata": {
        "colab": {
          "base_uri": "https://localhost:8080/"
        },
        "id": "YzVhaF88RoKW",
        "outputId": "5aa60cf9-1e9c-4cc4-c66c-8ded1cfd16fa"
      },
      "execution_count": 134,
      "outputs": [
        {
          "output_type": "stream",
          "name": "stdout",
          "text": [
            "A1\n",
            "A2\n",
            "A3\n",
            "Fin\n",
            "\n"
          ]
        }
      ]
    },
    {
      "cell_type": "code",
      "source": [
        "#Copiar un archivo a otro archivo\n",
        "with open('doc2','r') as lectura:\n",
        "    with open('doc3','w') as escritura:\n",
        "          for line in lectura:\n",
        "                escritura.write(line)"
      ],
      "metadata": {
        "id": "EhLD3RmGRz_A"
      },
      "execution_count": 140,
      "outputs": []
    },
    {
      "cell_type": "code",
      "source": [
        "#Verificamos que el archivo se copiara correctamente\n",
        "with open('doc3','r') as escritura:\n",
        "    print(escritura.read())"
      ],
      "metadata": {
        "colab": {
          "base_uri": "https://localhost:8080/"
        },
        "id": "Gt2rTc5VTzTg",
        "outputId": "a318a750-2f4c-4220-ac19-83ee03281af6"
      },
      "execution_count": 141,
      "outputs": [
        {
          "output_type": "stream",
          "name": "stdout",
          "text": [
            "A1\n",
            "A2\n",
            "A3\n",
            "Fin\n",
            "\n"
          ]
        }
      ]
    },
    {
      "cell_type": "markdown",
      "source": [
        "**Ejercicio**\n"
      ],
      "metadata": {
        "id": "JOsIq-QOUXXt"
      }
    },
    {
      "cell_type": "code",
      "source": [],
      "metadata": {
        "id": "eClY2XE3Ug5Q"
      },
      "execution_count": null,
      "outputs": []
    },
    {
      "cell_type": "markdown",
      "source": [
        "Lab#3 (LoadData)"
      ],
      "metadata": {
        "id": "RZkshp9ob0qB"
      }
    }
  ]
}