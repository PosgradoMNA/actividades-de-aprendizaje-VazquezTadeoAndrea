{
  "nbformat": 4,
  "nbformat_minor": 0,
  "metadata": {
    "colab": {
      "provenance": [],
      "authorship_tag": "ABX9TyNCZEXBSNNJ9HTIbBXJsGXP",
      "include_colab_link": true
    },
    "kernelspec": {
      "name": "python3",
      "display_name": "Python 3"
    },
    "language_info": {
      "name": "python"
    }
  },
  "cells": [
    {
      "cell_type": "markdown",
      "metadata": {
        "id": "view-in-github",
        "colab_type": "text"
      },
      "source": [
        "<a href=\"https://colab.research.google.com/github/PosgradoMNA/actividades-de-aprendizaje-VazquezTadeoAndrea/blob/main/Actividad2_AndreaVazquezTadeo.ipynb\" target=\"_parent\"><img src=\"https://colab.research.google.com/assets/colab-badge.svg\" alt=\"Open In Colab\"/></a>"
      ]
    },
    {
      "cell_type": "markdown",
      "source": [
        "**Andrea Vazquez Tadeo A01730613**"
      ],
      "metadata": {
        "id": "eRny2RG7dkmk"
      }
    },
    {
      "cell_type": "markdown",
      "source": [
        "**Modulo #1**"
      ],
      "metadata": {
        "id": "oz1INomadwGe"
      }
    },
    {
      "cell_type": "code",
      "execution_count": 21,
      "metadata": {
        "colab": {
          "base_uri": "https://localhost:8080/"
        },
        "id": "KlpweAAWElML",
        "outputId": "89c2c05d-ed6d-4fd2-d443-746b1a75c9f3"
      },
      "outputs": [
        {
          "output_type": "stream",
          "name": "stdout",
          "text": [
            "Hola Python\n"
          ]
        }
      ],
      "source": [
        "#Comando imprimir\n",
        "print(\"Hola Python\")"
      ]
    },
    {
      "cell_type": "markdown",
      "source": [
        "*Operadores*"
      ],
      "metadata": {
        "id": "M-NdIBXqecxI"
      }
    },
    {
      "cell_type": "code",
      "source": [
        "#Conociendo los operadores para realizar algebra\n",
        "(3*4)+4"
      ],
      "metadata": {
        "colab": {
          "base_uri": "https://localhost:8080/"
        },
        "id": "RdIcEEqhQHa8",
        "outputId": "acf67d07-1f13-45a3-9b10-b997fb1f627a"
      },
      "execution_count": 15,
      "outputs": [
        {
          "output_type": "execute_result",
          "data": {
            "text/plain": [
              "16"
            ]
          },
          "metadata": {},
          "execution_count": 15
        }
      ]
    },
    {
      "cell_type": "markdown",
      "source": [
        "*Types*"
      ],
      "metadata": {
        "id": "3ltUAznHefLi"
      }
    },
    {
      "cell_type": "code",
      "source": [
        "#Conversion de tipo int a boleano\n",
        "bool(0)"
      ],
      "metadata": {
        "colab": {
          "base_uri": "https://localhost:8080/"
        },
        "id": "95wNMlYQMO9z",
        "outputId": "c3a0bfbd-3aec-4de2-d8c7-987d1eb53bc3"
      },
      "execution_count": 50,
      "outputs": [
        {
          "output_type": "execute_result",
          "data": {
            "text/plain": [
              "False"
            ]
          },
          "metadata": {},
          "execution_count": 50
        }
      ]
    },
    {
      "cell_type": "code",
      "source": [
        "#Conversion de tipo float a int\n",
        "int(2.0)"
      ],
      "metadata": {
        "colab": {
          "base_uri": "https://localhost:8080/"
        },
        "id": "K2nE-ltJMJRM",
        "outputId": "61e86146-ea5f-4e0a-e061-18ff7a4293e7"
      },
      "execution_count": 51,
      "outputs": [
        {
          "output_type": "execute_result",
          "data": {
            "text/plain": [
              "2"
            ]
          },
          "metadata": {},
          "execution_count": 51
        }
      ]
    },
    {
      "cell_type": "code",
      "source": [
        "#Conversion de tipo boleano a int\n",
        "int(True)"
      ],
      "metadata": {
        "colab": {
          "base_uri": "https://localhost:8080/"
        },
        "id": "nmHkS4TaMMda",
        "outputId": "36cc1cb8-d674-48f5-cb8b-48340afe941d"
      },
      "execution_count": 13,
      "outputs": [
        {
          "output_type": "execute_result",
          "data": {
            "text/plain": [
              "1"
            ]
          },
          "metadata": {},
          "execution_count": 13
        }
      ]
    },
    {
      "cell_type": "markdown",
      "source": [
        "*Variables*"
      ],
      "metadata": {
        "id": "oy4cNwLgeRIG"
      }
    },
    {
      "cell_type": "code",
      "source": [
        "#Utilizando variables para operaciones\n",
        "ventas_trimestrales=10+25+25\n",
        "promedio=ventas_trimestrales/3\n",
        "print(promedio)"
      ],
      "metadata": {
        "colab": {
          "base_uri": "https://localhost:8080/"
        },
        "id": "_kEyEd5DRjkk",
        "outputId": "cd7d5e72-e98e-4331-b6b0-6a1fa1334ae1"
      },
      "execution_count": 24,
      "outputs": [
        {
          "output_type": "stream",
          "name": "stdout",
          "text": [
            "20.0\n"
          ]
        }
      ]
    },
    {
      "cell_type": "markdown",
      "source": [
        "*String*"
      ],
      "metadata": {
        "id": "dpLDAzX2eLFo"
      }
    },
    {
      "cell_type": "code",
      "source": [
        "#Imprimiendo segun el numero de index indicado\n",
        "nombre=\"Andrea Vazquez Tadeo\"\n",
        "matricula=\"\\tA01730613\"\n",
        "print(nombre[0:5])\n",
        "print(len(\"A01730613\"))\n",
        "#Imprimiendo operacion con string\n",
        "informacion_alumno=nombre+matricula\n",
        "operacionstring=2*informacion_alumno\n",
        "print(operacionstring)\n",
        "print(informacion_alumno)"
      ],
      "metadata": {
        "colab": {
          "base_uri": "https://localhost:8080/"
        },
        "id": "NjZ7nNo7UtkP",
        "outputId": "f4899456-1c24-4a10-b69c-5467b88fb749"
      },
      "execution_count": 44,
      "outputs": [
        {
          "output_type": "stream",
          "name": "stdout",
          "text": [
            "Andre\n",
            "9\n",
            "Andrea Vazquez Tadeo\tA01730613Andrea Vazquez Tadeo\tA01730613\n",
            "Andrea Vazquez Tadeo\tA01730613\n"
          ]
        }
      ]
    },
    {
      "cell_type": "markdown",
      "source": [
        "*Method*"
      ],
      "metadata": {
        "id": "7EQgVoI2eFgi"
      }
    },
    {
      "cell_type": "code",
      "source": [
        "#Aplicando el metodo de mayusculas\n",
        "x=\"ciencia y analitica de datos\"\n",
        "y=x.upper()\n",
        "print(y)\n",
        "#Remplazando palabra con metodo\n",
        "a=\"Hola mundo\"\n",
        "b=a.replace(\"Hola\",\"Hello\")\n",
        "print(b)"
      ],
      "metadata": {
        "colab": {
          "base_uri": "https://localhost:8080/"
        },
        "id": "ZO3yFX7lcYXT",
        "outputId": "5631ef88-c1cd-4921-bcf2-3a8685163e4b"
      },
      "execution_count": 47,
      "outputs": [
        {
          "output_type": "stream",
          "name": "stdout",
          "text": [
            "CIENCIA Y ANALITICA DE DATOS\n",
            "Hello mundo\n"
          ]
        }
      ]
    },
    {
      "cell_type": "markdown",
      "source": [
        "**Modulo #2**"
      ],
      "metadata": {
        "id": "knSURfOthjQD"
      }
    },
    {
      "cell_type": "markdown",
      "source": [
        "*Tuple*"
      ],
      "metadata": {
        "id": "ECdE3YmGiE09"
      }
    },
    {
      "cell_type": "code",
      "source": [
        "#Encontrando un valor por index dentro de un tuple\n",
        "test=(\"hola\",5,0.8)\n",
        "encontrar=test[0]\n",
        "print(encontrar)\n",
        "#Sumando tuples\n",
        "test2=test+(\"ya se Python\",2022)\n",
        "print(test2)"
      ],
      "metadata": {
        "colab": {
          "base_uri": "https://localhost:8080/"
        },
        "id": "ARXe9J2ohltz",
        "outputId": "9d91d299-b38b-4509-da11-ba98aa3195ac"
      },
      "execution_count": 57,
      "outputs": [
        {
          "output_type": "stream",
          "name": "stdout",
          "text": [
            "hola\n",
            "('hola', 5, 0.8, 'ya se Python', 2022)\n"
          ]
        }
      ]
    },
    {
      "cell_type": "markdown",
      "source": [
        "*Lists*"
      ],
      "metadata": {
        "id": "exKhj9O5kSW7"
      }
    },
    {
      "cell_type": "code",
      "source": [
        "#Declarando lista\n",
        "L=[\"listas\",2022,0.5]\n",
        "print(L[1])\n",
        "#Extendiendo lista\n",
        "L.extend([\"lista extendida\"])\n",
        "print(L)\n",
        "#Cambiando valor de la lista\n",
        "L[0]=\"Ejemplo de lista\"\n",
        "print(L)"
      ],
      "metadata": {
        "colab": {
          "base_uri": "https://localhost:8080/"
        },
        "id": "tBO_Il2KkUdU",
        "outputId": "9fea6971-9b5f-4acc-cae1-7d66ab3f891f"
      },
      "execution_count": 62,
      "outputs": [
        {
          "output_type": "stream",
          "name": "stdout",
          "text": [
            "2022\n",
            "['listas', 2022, 0.5, 'lista extendida']\n",
            "['Ejemplo de lista', 2022, 0.5, 'lista extendida']\n"
          ]
        }
      ]
    },
    {
      "cell_type": "markdown",
      "source": [
        "*Sets*"
      ],
      "metadata": {
        "id": "Sw9mf0kymRw0"
      }
    },
    {
      "cell_type": "code",
      "source": [
        "#Declarando un set\n",
        "Set1={\"data\",\"hola\",\"data\"}\n",
        "print(Set1)\n",
        "#Convirtiendo una lista a un set\n",
        "alumnosMNA=[\"Juan\",\"Pablo\",\"Juan\",\"Sofia\"]\n",
        "alumnosSET=set(alumnosMNA)\n",
        "print(alumnosSET)\n",
        "#Añadiendo valor al set\n",
        "Set1.add(\"ciencia\")\n",
        "print(Set1)\n",
        "#Removiendo valor del set\n",
        "Set1.remove(\"ciencia\")\n",
        "print(Set1)\n",
        "#Buscar valor en set\n",
        "buscar = \"data\" in Set1\n",
        "print(buscar)\n",
        "#& con 2 sets \n",
        "Set2={\"ITESM\",\"MNA\",\"data\"}\n",
        "Set3=Set1&Set2\n",
        "print(Set3)\n",
        "#unir 2 sets\n",
        "Set4=Set1.union(Set2)\n",
        "print(Set4)"
      ],
      "metadata": {
        "colab": {
          "base_uri": "https://localhost:8080/"
        },
        "id": "k_B6AzEumTGS",
        "outputId": "fd01ffa4-cfdd-4588-9e46-6d0c9b988e43"
      },
      "execution_count": 73,
      "outputs": [
        {
          "output_type": "stream",
          "name": "stdout",
          "text": [
            "{'data', 'hola'}\n",
            "{'Juan', 'Pablo', 'Sofia'}\n",
            "{'data', 'hola', 'ciencia'}\n",
            "{'data', 'hola'}\n",
            "True\n",
            "{'data'}\n",
            "{'data', 'ITESM', 'hola', 'MNA'}\n"
          ]
        }
      ]
    },
    {
      "cell_type": "markdown",
      "source": [
        "*Dictionaries*"
      ],
      "metadata": {
        "id": "nPUjtL2Jr_iS"
      }
    },
    {
      "cell_type": "code",
      "source": [
        "#Devolver valor con el index\n",
        "Comandos={\"Hallo\":1,\"Auto\":2,\"Guten Tag\":3,}\n",
        "Valor=Comandos[\"Guten Tag\"]\n",
        "print(Valor)\n",
        "#Encontrar valor en diccionario \n",
        "DataBase=\"Hallo\" in Comandos\n",
        "print(DataBase)\n",
        "datos=Comandos.keys()\n",
        "print(datos)\n"
      ],
      "metadata": {
        "colab": {
          "base_uri": "https://localhost:8080/"
        },
        "id": "DWIr07lrsA63",
        "outputId": "dd53f24d-9f7f-494c-a87d-203ca492944d"
      },
      "execution_count": 84,
      "outputs": [
        {
          "output_type": "stream",
          "name": "stdout",
          "text": [
            "3\n",
            "True\n",
            "dict_keys(['Hallo', 'Auto', 'Guten Tag'])\n"
          ]
        }
      ]
    },
    {
      "cell_type": "markdown",
      "source": [
        "**Modulo #3**"
      ],
      "metadata": {
        "id": "eA84Wnm0vn_c"
      }
    },
    {
      "cell_type": "markdown",
      "source": [
        "*Conditions and branching*"
      ],
      "metadata": {
        "id": "3hxnnP4cwKsS"
      }
    },
    {
      "cell_type": "code",
      "source": [
        "#Utilizando operadores de comparacion\n",
        "a=10\n",
        "valor=a==8\n",
        "print(valor)\n",
        "#Usando statements\n",
        "grade=7\n",
        "if (grade>7):\n",
        "  print(\"¡Pasaste la materia!\")\n",
        "else:\n",
        "    print(\"Intentalo de nuevo :(\")\n",
        "#Utilizando operadores logicos AND\n",
        "x=18\n",
        "y=\"mujer\"\n",
        "if (x==18) and (y==\"mujer\"):\n",
        " print(\"¡Bienvenida al autobus para mujeres!\")\n",
        "else:\n",
        "   print(\"Por favor toma el autobus indicado para tu genero y edad\")"
      ],
      "metadata": {
        "colab": {
          "base_uri": "https://localhost:8080/"
        },
        "id": "5-76KMHcvxBk",
        "outputId": "22bbfc2c-322c-4a9b-87ad-89617a7fcbd3"
      },
      "execution_count": 157,
      "outputs": [
        {
          "output_type": "stream",
          "name": "stdout",
          "text": [
            "False\n",
            "Intentalo de nuevo :(\n",
            "¡Bienvenida al autobus para mujeres!\n"
          ]
        }
      ]
    },
    {
      "cell_type": "markdown",
      "source": [
        "*Loops*"
      ],
      "metadata": {
        "id": "5goZnM_BHk_K"
      }
    },
    {
      "cell_type": "code",
      "source": [
        "#Utilizando FOR\n",
        "Ejemplo=[\"MNA\",\"TEC\",\"ITESM\",\"X\"]\n",
        "for x in range(0,4):\n",
        " Ejemplo[x]=\"white\"\n",
        " print(Ejemplo[x])\n",
        "#Utilizando WHILE\n",
        "Genero=[\"Femenino\",\"Femenino\",\"Masculino\",\"Femenino\"]\n",
        "Inscritos=[]\n",
        "i=0\n",
        "while(Genero[i]==\"Femenino\"):\n",
        "  Inscritos.append(Genero[i])\n",
        "  i=i+1\n",
        "  print(i)"
      ],
      "metadata": {
        "colab": {
          "base_uri": "https://localhost:8080/"
        },
        "id": "BHbFr-QyHmrV",
        "outputId": "5af17ba2-126e-4ad2-a716-d8a9d92922bc"
      },
      "execution_count": 182,
      "outputs": [
        {
          "output_type": "stream",
          "name": "stdout",
          "text": [
            "white\n",
            "white\n",
            "white\n",
            "white\n",
            "1\n",
            "2\n"
          ]
        }
      ]
    },
    {
      "cell_type": "markdown",
      "source": [
        "*Functions*"
      ],
      "metadata": {
        "id": "2MuiScGURwDG"
      }
    },
    {
      "cell_type": "code",
      "source": [
        "#Utilizando función LEN, SUM y SORTED\n",
        "media=[6,7,8,3,4,6,2]\n",
        "Prueba=len(media)\n",
        "Prueba2=sum(media)\n",
        "Prueba3=sorted(media)\n",
        "print(Prueba)\n",
        "print(Prueba2)\n",
        "print(Prueba3)\n",
        "\n",
        "#creando funcion \n",
        "prueba=5\n",
        "def add(x):\n",
        " return prueba+x\n",
        "resultado=add(15)\n",
        "print(resultado)\n"
      ],
      "metadata": {
        "colab": {
          "base_uri": "https://localhost:8080/"
        },
        "id": "I5vmtmCyR8s_",
        "outputId": "116de1df-ab9c-4212-b941-85786ee7a760"
      },
      "execution_count": 203,
      "outputs": [
        {
          "output_type": "stream",
          "name": "stdout",
          "text": [
            "7\n",
            "36\n",
            "[2, 3, 4, 6, 6, 7, 8]\n",
            "20\n"
          ]
        }
      ]
    },
    {
      "cell_type": "markdown",
      "source": [
        "*Object and Classes*"
      ],
      "metadata": {
        "id": "pnmuTwkRVM6v"
      }
    },
    {
      "cell_type": "code",
      "source": [
        "#creando una clase\n",
        "class circulo (object):\n",
        "  def __init__(radio,color):\n",
        "    self.radio=radio;\n",
        "    self.color=color;\n",
        "\n",
        "    CirculoNegro=Circulo(20,\"black\")\n",
        "    C1=Circulo(20,\"black\")\n",
        "    C1.radio\n",
        "    C1.color"
      ],
      "metadata": {
        "id": "jiBcVR44VOEa"
      },
      "execution_count": 211,
      "outputs": []
    }
  ]
}